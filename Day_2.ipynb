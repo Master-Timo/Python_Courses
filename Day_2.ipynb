{
  "nbformat": 4,
  "nbformat_minor": 0,
  "metadata": {
    "colab": {
      "name": "Day 2.ipynb",
      "provenance": [],
      "collapsed_sections": [],
      "authorship_tag": "ABX9TyOIGB2E7IHIvWi4LWu3fAiH",
      "include_colab_link": true
    },
    "kernelspec": {
      "name": "python3",
      "display_name": "Python 3"
    },
    "language_info": {
      "name": "python"
    }
  },
  "cells": [
    {
      "cell_type": "markdown",
      "metadata": {
        "id": "view-in-github",
        "colab_type": "text"
      },
      "source": [
        "<a href=\"https://colab.research.google.com/github/Master-Timo/Python_Courses/blob/main/Day_2.ipynb\" target=\"_parent\"><img src=\"https://colab.research.google.com/assets/colab-badge.svg\" alt=\"Open In Colab\"/></a>"
      ]
    },
    {
      "cell_type": "markdown",
      "metadata": {
        "id": "W5sszgpuYFm4"
      },
      "source": [
        "# **Assignment/Task 1** \n",
        "\n",
        "---\n",
        "\n",
        "\n",
        "\n",
        "1. We are having 3 list like this \n",
        "\n",
        ">>Colors = [“Yellow”,”Green”,”White”,”Black”]\n",
        "\n",
        ">>Fruits=[“Apple”,”Papaya”,”Mango”,”Orange”]\n",
        "\n",
        ">>Animals=[“Tiger”,”Lion”,”Deer”,”Zebra”]\n",
        "\n",
        ">>>  i. Write a program that asks user to enter a Color/Fruit/Animal name and it should tell which category belongs to , like its is a fruit or color or Animal\n",
        "\n",
        ">>> ii. Write a program that asks user to enter two cities and it tells you if they both are in same country or not. For example if I enter yellow and Black, it will print \"Both are colors\" but if I enter yellow and Tiger it should print \"They don't belong to same category\"\n",
        "\n",
        "*Hint : Python If Condition*\n",
        "\n",
        "2.  Write a python program that can tell you if your grade score good or not . Good Score range is 40 to 60.\n",
        "\n",
        "  i. Ask user to enter his score.\n",
        "\n",
        "  ii. If it is below 40 to 60 range then print that score is low\n",
        "\n",
        "  iii. If it is above 60 then print that it is good otherwise print that it is normal\n",
        "\n",
        " \n",
        " Hint: Loop Questions\n",
        "\n",
        "3.  After appearing in exam 10 times you got this result,\n",
        "\n",
        ">>result = [\"Pass\",\"Fail\",\"Fail\",\"Pass\",\"Fail\",\"Pass\",\"Pass\",\"Fail\",\"Fail\",\"Fail\"]\n",
        "\n",
        ">>Using for loop figure out how many times you got Pass\n",
        "\n",
        "4.  Write a program that prints following shape\n",
        "\n",
        "```\n",
        "*\n",
        "\n",
        "* *\n",
        "\n",
        "* * *\n",
        "\n",
        "* * * *\n",
        "\n",
        "* * * * *\n",
        "\n",
        "* * * *\n",
        "\n",
        "* * *\n",
        "\n",
        "* *\n",
        "\n",
        "*\n",
        "```\n",
        "\n",
        "\n",
        "\n",
        "5.   Lets say you are running a 50 km race. Write a program that,\n",
        "\n",
        ">>Upon completing each 10 km asks you \"are you tired?\"\n",
        "If you reply \"yes\" then it should break and print \"you didn't finish the race\"\n",
        " If you reply \"no\" then it should continue and ask \"are you tired\" on every km\n",
        "If you finish all 50 km then it should print congratulations message\n",
        "\n",
        "\n",
        "6.  Write a Python program to find those numbers which are divisible by 7 and multiple of 5, between 1500 and 2700 (both included).\n",
        "\n",
        "7.   Print square of all numbers between 10 to 20 except even numbers\n",
        "\n",
        "8.  Your Marks for five Test(test1 to test5) looks like this,\n",
        "\n",
        ">>marks_list = [65, 75, 2100, 95, 83]\n",
        "\n",
        ">>Write a program that asks you to enter marks and program should tell you in which test that expense occurred. If expense is not found then it should print that as well."
      ]
    },
    {
      "cell_type": "markdown",
      "metadata": {
        "id": "Xrw_FWYGU7Bv"
      },
      "source": [
        "# **Problem 1 : List**"
      ]
    },
    {
      "cell_type": "markdown",
      "metadata": {
        "id": "Z7a8mVdns0zM"
      },
      "source": [
        "### **Part (i)**"
      ]
    },
    {
      "cell_type": "code",
      "metadata": {
        "id": "tJDQTBiWVFNb"
      },
      "source": [
        "Colors = [\"Yellow\",\"Green\",\"White\",\"Black\"]\n",
        "\n",
        "Fruits=[\"Apple\",\"Papaya\",\"Mango\",\"Orange\"]\n",
        "\n",
        "Animals=[\"Tiger\",\"Lion\",\"Deer\",\"Zebra\"]"
      ],
      "execution_count": null,
      "outputs": []
    },
    {
      "cell_type": "code",
      "metadata": {
        "colab": {
          "base_uri": "https://localhost:8080/"
        },
        "id": "YISOMDPwaJII",
        "outputId": "f56ac256-d18c-4336-d7dd-37c65784753f"
      },
      "source": [
        "user_input= input(\"Enter Color/Fruit/Animal name : \")\n",
        "if user_input in Colors:\n",
        "  print(\"It's a Color\")\n",
        "elif user_input in Fruits:\n",
        "  print(\"It's a Fruit\")\n",
        "elif  user_input in Animals:\n",
        "  print(\"It's an Animal \")"
      ],
      "execution_count": null,
      "outputs": [
        {
          "output_type": "stream",
          "text": [
            "Enter Color/Fruit/Animal name : Lion\n",
            "Its an Animal \n"
          ],
          "name": "stdout"
        }
      ]
    },
    {
      "cell_type": "markdown",
      "metadata": {
        "id": "FwqrqqdZtCU1"
      },
      "source": [
        "### **Part (ii)**"
      ]
    },
    {
      "cell_type": "code",
      "metadata": {
        "id": "zTmhW6UKsz69"
      },
      "source": [
        ""
      ],
      "execution_count": null,
      "outputs": []
    },
    {
      "cell_type": "markdown",
      "metadata": {
        "id": "EyIiYrWitWta"
      },
      "source": [
        "# **Problem 2 : Grades**"
      ]
    },
    {
      "cell_type": "code",
      "metadata": {
        "colab": {
          "base_uri": "https://localhost:8080/"
        },
        "id": "YtUybfhata_0",
        "outputId": "c36d69f9-6aee-407e-98e8-86ffaafbf154"
      },
      "source": [
        "user_input= int(input(\"Enter marks : \"))\n",
        "if user_input < 40:\n",
        "  print(\"score is low\")\n",
        "elif user_input >60:\n",
        "  print(\"score is good\")\n",
        "else:\n",
        "  print(\"score is normal\")"
      ],
      "execution_count": null,
      "outputs": [
        {
          "output_type": "stream",
          "text": [
            "Enter marks : 65\n",
            "score is good\n"
          ],
          "name": "stdout"
        }
      ]
    },
    {
      "cell_type": "markdown",
      "metadata": {
        "id": "k8PXUjYc3900"
      },
      "source": [
        "# **Problem 3 : Pass/Fail**\n"
      ]
    },
    {
      "cell_type": "code",
      "metadata": {
        "id": "ZiF4Av3X4jaJ"
      },
      "source": [
        "count = 0\n",
        "result = [\"Pass\",\"Fail\",\"Fail\",\"Pass\",\"Fail\",\"Pass\",\"Pass\",\"Fail\",\"Fail\",\"Fail\"]\n",
        "for my_result in result :\n",
        "  if my_result == \"Pass\":\n",
        "    count+=1\n",
        "  \n",
        "\n"
      ],
      "execution_count": null,
      "outputs": []
    },
    {
      "cell_type": "code",
      "metadata": {
        "colab": {
          "base_uri": "https://localhost:8080/"
        },
        "id": "_bsYFxIl4_uB",
        "outputId": "a2b84022-112c-4266-f76d-af856135d394"
      },
      "source": [
        "count"
      ],
      "execution_count": null,
      "outputs": [
        {
          "output_type": "execute_result",
          "data": {
            "text/plain": [
              "4"
            ]
          },
          "metadata": {
            "tags": []
          },
          "execution_count": 12
        }
      ]
    },
    {
      "cell_type": "markdown",
      "metadata": {
        "id": "oIgmxREy5Hd7"
      },
      "source": [
        "# **Problem 4 : Pattern**"
      ]
    },
    {
      "cell_type": "code",
      "metadata": {
        "colab": {
          "base_uri": "https://localhost:8080/"
        },
        "id": "BbATEfQt5QKI",
        "outputId": "17ed436a-2e5c-475a-b66c-b197a5c2d2b4"
      },
      "source": [
        "for i in range(6):\n",
        "    print(\"* \"*i)\n",
        "    print(\"\\n\")\n",
        "for i in range(4,0,-1):\n",
        "    print(\"* \"*i)\n",
        "    print(\"\\n\")"
      ],
      "execution_count": null,
      "outputs": [
        {
          "output_type": "stream",
          "text": [
            "\n",
            "\n",
            "\n",
            "* \n",
            "\n",
            "\n",
            "* * \n",
            "\n",
            "\n",
            "* * * \n",
            "\n",
            "\n",
            "* * * * \n",
            "\n",
            "\n",
            "* * * * * \n",
            "\n",
            "\n",
            "* * * * \n",
            "\n",
            "\n",
            "* * * \n",
            "\n",
            "\n",
            "* * \n",
            "\n",
            "\n",
            "* \n",
            "\n",
            "\n"
          ],
          "name": "stdout"
        }
      ]
    }
  ]
}