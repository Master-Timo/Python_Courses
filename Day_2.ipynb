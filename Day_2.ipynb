{
  "nbformat": 4,
  "nbformat_minor": 0,
  "metadata": {
    "colab": {
      "name": "Day 2.ipynb",
      "provenance": [],
      "collapsed_sections": [],
      "authorship_tag": "ABX9TyOdNInW/RRGd/pyXHKiV6Ot",
      "include_colab_link": true
    },
    "kernelspec": {
      "name": "python3",
      "display_name": "Python 3"
    },
    "language_info": {
      "name": "python"
    }
  },
  "cells": [
    {
      "cell_type": "markdown",
      "metadata": {
        "id": "view-in-github",
        "colab_type": "text"
      },
      "source": [
        "<a href=\"https://colab.research.google.com/github/Master-Timo/Python_Courses/blob/main/Day_2.ipynb\" target=\"_parent\"><img src=\"https://colab.research.google.com/assets/colab-badge.svg\" alt=\"Open In Colab\"/></a>"
      ]
    },
    {
      "cell_type": "markdown",
      "metadata": {
        "id": "W5sszgpuYFm4"
      },
      "source": [
        "# **Assignment/Task 1** \n",
        "\n",
        "---\n",
        "\n",
        "\n",
        "\n",
        "1. We are having 3 list like this \n",
        "\n",
        ">>Colors = [“Yellow”,”Green”,”White”,”Black”]\n",
        "\n",
        ">>Fruits=[“Apple”,”Papaya”,”Mango”,”Orange”]\n",
        "\n",
        ">>Animals=[“Tiger”,”Lion”,”Deer”,”Zebra”]\n",
        "\n",
        ">>>  i. Write a program that asks user to enter a Color/Fruit/Animal name and it should tell which category belongs to , like its is a fruit or color or Animal\n",
        "\n",
        ">>> ii. Write a program that asks user to enter two cities and it tells you if they both are in same country or not. For example if I enter yellow and Black, it will print \"Both are colors\" but if I enter yellow and Tiger it should print \"They don't belong to same category\"\n",
        "\n",
        "*Hint : Python If Condition*\n",
        "\n",
        "2.  Write a python program that can tell you if your grade score good or not . Good Score range is 40 to 60.\n",
        "\n",
        "  i. Ask user to enter his score.\n",
        "\n",
        "  ii. If it is below 40 to 60 range then print that score is low\n",
        "\n",
        "  iii. If it is above 60 then print that it is good otherwise print that it is normal\n",
        "\n",
        " \n",
        " Hint: Loop Questions\n",
        "\n",
        "3.  After appearing in exam 10 times you got this result,\n",
        "\n",
        ">>result = [\"Pass\",\"Fail\",\"Fail\",\"Pass\",\"Fail\",\"Pass\",\"Pass\",\"Fail\",\"Fail\",\"Fail\"]\n",
        "\n",
        ">>Using for loop figure out how many times you got Pass\n",
        "\n",
        "4.  Write a program that prints following shape\n",
        "\n",
        "```\n",
        "*\n",
        "\n",
        "* *\n",
        "\n",
        "* * *\n",
        "\n",
        "* * * *\n",
        "\n",
        "* * * * *\n",
        "\n",
        "* * * *\n",
        "\n",
        "* * *\n",
        "\n",
        "* *\n",
        "\n",
        "*\n",
        "```\n",
        "\n",
        "\n",
        "\n",
        "5.   Lets say you are running a 50 km race. Write a program that,\n",
        "\n",
        ">>Upon completing each 10 km asks you \"are you tired?\"\n",
        "If you reply \"yes\" then it should break and print \"you didn't finish the race\"\n",
        " If you reply \"no\" then it should continue and ask \"are you tired\" on every km\n",
        "If you finish all 50 km then it should print congratulations message\n",
        "\n",
        "\n",
        "6.  Write a Python program to find those numbers which are divisible by 7 and multiple of 5, between 1500 and 2700 (both included).\n",
        "\n",
        "7.   Print square of all numbers between 10 to 20 except even numbers\n",
        "\n",
        "8.  Your Marks for five Test(test1 to test5) looks like this,\n",
        "\n",
        ">>marks_list = [65, 75, 2100, 95, 83]\n",
        "\n",
        ">>Write a program that asks you to enter marks and program should tell you in which test that expense occurred. If expense is not found then it should print that as well."
      ]
    },
    {
      "cell_type": "markdown",
      "metadata": {
        "id": "Xrw_FWYGU7Bv"
      },
      "source": [
        "# **Problem 1 : List**"
      ]
    },
    {
      "cell_type": "markdown",
      "metadata": {
        "id": "jjJkPKV4kooj"
      },
      "source": [
        "### **Q) We are having 3 list like this**\n",
        "### Colors = [“Yellow”,”Green”,”White”,”Black”]\n",
        "### Fruits=[“Apple”,”Papaya”,”Mango”,”Orange”]\n",
        "### Animals=[“Tiger”,”Lion”,”Deer”,”Zebra”]"
      ]
    },
    {
      "cell_type": "code",
      "metadata": {
        "id": "87cE5oNEbvQw"
      },
      "source": [
        "#The Given Lists \n",
        "Colors = [\"Yellow\",\"Green\",\"White\",\"Black\",\"Red\", \"Blue\"]\n",
        "\n",
        "Fruits=[\"Apple\",\"Papaya\",\"Mango\",\"Orange\"]\n",
        "\n",
        "Animals=[\"Tiger\",\"Lion\",\"Deer\",\"Zebra\"]"
      ],
      "execution_count": 7,
      "outputs": []
    },
    {
      "cell_type": "markdown",
      "metadata": {
        "id": "Z7a8mVdns0zM"
      },
      "source": [
        "### **Part (i)**\n",
        "Write a program that asks user to enter a Color/Fruit/Animal name and it should tell which category belongs to , like its is a fruit or color or Animal"
      ]
    },
    {
      "cell_type": "code",
      "metadata": {
        "colab": {
          "base_uri": "https://localhost:8080/"
        },
        "id": "YISOMDPwaJII",
        "outputId": "2e97950e-bb40-4de3-ae0d-d867546ce49e"
      },
      "source": [
        "user_input= input(\"Enter Color/Fruit/Animal name : \").title()\n",
        "if user_input in Colors:\n",
        "  print(\"It's a Color\")\n",
        "elif user_input in Fruits:\n",
        "  print(\"It's a Fruit\")\n",
        "elif  user_input in Animals:\n",
        "  print(\"It's an Animal \")"
      ],
      "execution_count": 4,
      "outputs": [
        {
          "output_type": "stream",
          "text": [
            "Enter Color/Fruit/Animal name : yellow\n",
            "It's a Color\n"
          ],
          "name": "stdout"
        }
      ]
    },
    {
      "cell_type": "markdown",
      "metadata": {
        "id": "FwqrqqdZtCU1"
      },
      "source": [
        "### **Part (ii)**\n",
        "Write a program that asks user to enter two cities and it tells you if they both are in same country or not. For example if I enter yellow and Black, it will print \"Both are colors\" but if I enter yellow and Tiger it should print \"They don't belong to same category\"\n",
        "\n"
      ]
    },
    {
      "cell_type": "code",
      "metadata": {
        "id": "zTmhW6UKsz69",
        "colab": {
          "base_uri": "https://localhost:8080/"
        },
        "outputId": "b0a59180-1677-47d0-d68d-3bd051b11ff9"
      },
      "source": [
        "user_input1 = input(\"Enter the 1st object \" ).title()\n",
        "user_input2 = input(\"Enter the 2nd object \" ).title()\n",
        "\n",
        "if user_input1 in Colors and user_input2 in Colors:\n",
        "  print(\"Both are Colors!!\")\n",
        "elif user_input1 in Fruits and user_input2 in Fruits:\n",
        "  print(\"Both are Fruits!!\")\n",
        "elif user_input1 in Animals and user_input2 in Animals:\n",
        "  print(\"Both are Animals!!\")\n",
        "else:\n",
        "  print(\"They don't belong to the same category!!\")"
      ],
      "execution_count": 9,
      "outputs": [
        {
          "output_type": "stream",
          "text": [
            "Enter the 1st object red\n",
            "Enter the 2nd object blue\n",
            "Both are Colors!!\n"
          ],
          "name": "stdout"
        }
      ]
    },
    {
      "cell_type": "markdown",
      "metadata": {
        "id": "EyIiYrWitWta"
      },
      "source": [
        "# **Problem 2 : Grades**\n",
        "Write a python program that can tell you if your grade score good or not . Good Score range is 40 to 60.\n",
        "\n",
        "i. Ask user to enter his score.\n",
        "\n",
        "ii. If it is below 40 to 60 range then print that score is low\n",
        "\n",
        "iii. If it is above 60 then print that it is good otherwise print that it is normal"
      ]
    },
    {
      "cell_type": "code",
      "metadata": {
        "colab": {
          "base_uri": "https://localhost:8080/"
        },
        "id": "YtUybfhata_0",
        "outputId": "658f7eb5-cb95-4665-b79e-ad6d40fcdde2"
      },
      "source": [
        "user_input= int(input(\"Enter marks : \"))\n",
        "if user_input < 40:\n",
        "  print(f\"{user_input} is low score\")\n",
        "elif user_input >60:\n",
        "  print(f\"{user_input} is good score\")\n",
        "else:\n",
        "  print(f\"{user_input} is normal score\")"
      ],
      "execution_count": 10,
      "outputs": [
        {
          "output_type": "stream",
          "text": [
            "Enter marks : 50\n",
            "50 is normal score\n"
          ],
          "name": "stdout"
        }
      ]
    },
    {
      "cell_type": "markdown",
      "metadata": {
        "id": "k8PXUjYc3900"
      },
      "source": [
        "# **Problem 3 : Pass/Fail**\n",
        "After appearing in exam 10 times you got this result\n",
        "\n",
        "**Result = [\"Pass\", \"Fail\", \"Fail\", \"Pass\", \"Fail\", \"Pass\", \"Pass\", \"Fail\", \"Fail\", \"Fail\"]**\n",
        "\n",
        "Using for loop figure out how many times you got Pass.\n"
      ]
    },
    {
      "cell_type": "code",
      "metadata": {
        "id": "ZiF4Av3X4jaJ"
      },
      "source": [
        "count = 0\n",
        "result = [\"Pass\",\"Fail\",\"Fail\",\"Pass\",\"Fail\",\"Pass\",\"Pass\",\"Fail\",\"Fail\",\"Fail\"]\n",
        "for my_result in result :\n",
        "  if my_result == \"Pass\":\n",
        "    count+=1"
      ],
      "execution_count": null,
      "outputs": []
    },
    {
      "cell_type": "code",
      "metadata": {
        "colab": {
          "base_uri": "https://localhost:8080/"
        },
        "id": "_bsYFxIl4_uB",
        "outputId": "a2b84022-112c-4266-f76d-af856135d394"
      },
      "source": [
        "count"
      ],
      "execution_count": null,
      "outputs": [
        {
          "output_type": "execute_result",
          "data": {
            "text/plain": [
              "4"
            ]
          },
          "metadata": {
            "tags": []
          },
          "execution_count": 12
        }
      ]
    },
    {
      "cell_type": "markdown",
      "metadata": {
        "id": "oIgmxREy5Hd7"
      },
      "source": [
        "# **Problem 4 : Pattern**\n",
        "# Write a program that prints following shape:-\n",
        "```\n",
        "*\n",
        "* *\n",
        "* * *\n",
        "* * * *\n",
        "* * * * *\n",
        "* * * *\n",
        "* * *\n",
        "* *\n",
        "*\n",
        "```\n",
        "\n"
      ]
    },
    {
      "cell_type": "code",
      "metadata": {
        "colab": {
          "base_uri": "https://localhost:8080/"
        },
        "id": "BbATEfQt5QKI",
        "outputId": "174759fa-adab-46f2-d9fd-ec038bb0dee7"
      },
      "source": [
        "for i in range(6):\n",
        "    print(\"* \"*i)\n",
        "    print(\" \")\n",
        "for i in range(4,0,-1):\n",
        "    print(\"* \"*i)\n",
        "    print(\" \")"
      ],
      "execution_count": 11,
      "outputs": [
        {
          "output_type": "stream",
          "text": [
            "\n",
            " \n",
            "* \n",
            " \n",
            "* * \n",
            " \n",
            "* * * \n",
            " \n",
            "* * * * \n",
            " \n",
            "* * * * * \n",
            " \n",
            "* * * * \n",
            " \n",
            "* * * \n",
            " \n",
            "* * \n",
            " \n",
            "* \n",
            " \n"
          ],
          "name": "stdout"
        }
      ]
    },
    {
      "cell_type": "markdown",
      "metadata": {
        "id": "Ra23iq8MdHPv"
      },
      "source": [
        "# **Problem 5 : Let's Race**\n",
        "Lets say you are running a 50 km race. Write a program that,\n",
        "\n",
        "Upon completing each 10 km asks you \"are you tired?\"\n",
        "If you reply \"yes\" then it should break and print \"you didn't finish the race\".\n",
        "If you reply \"no\" then it should continue and ask \"are you tired\" on every 10 km.\n",
        "If you finish all 50 km then it should print congratulations message."
      ]
    },
    {
      "cell_type": "code",
      "metadata": {
        "colab": {
          "base_uri": "https://localhost:8080/"
        },
        "id": "fto7BQKFdhA-",
        "outputId": "4e000a76-a5f0-41f6-bd62-4f11b021a6e3"
      },
      "source": [
        "print (\"Hey Champ !! Lets Race !!!\")\n",
        "total_distance = int(input(\"Enter the total distance to run : \"))\n",
        "interval = 10\n",
        "if total_distance < 50 :\n",
        "  while total_distance <50 :\n",
        "    print (\"Hey Champ !! It's too short a distance for You ... You need to run Atleast 50kms\")\n",
        "    total_distance = int(input(\"Enter the total distance to run : \"))"
      ],
      "execution_count": 21,
      "outputs": [
        {
          "output_type": "stream",
          "text": [
            "Hey Champ !! Lets Race !!!\n",
            "Enter the total distance to run : 50\n"
          ],
          "name": "stdout"
        }
      ]
    },
    {
      "cell_type": "code",
      "metadata": {
        "id": "f8TZ26z1etu3"
      },
      "source": [
        "count = 0\n",
        "laps = total_distance // interval"
      ],
      "execution_count": 22,
      "outputs": []
    },
    {
      "cell_type": "code",
      "metadata": {
        "colab": {
          "base_uri": "https://localhost:8080/"
        },
        "id": "Dp5QYC0yf5Et",
        "outputId": "a2d11d0c-e604-4cf7-c142-2c1e75246b0d"
      },
      "source": [
        "while laps > count :\n",
        "    ask = input(\"Are you tired?\" ).title()\n",
        "    if ask == \"Yes\":\n",
        "      print(f\"You didn't finish the race. You have completed only {count*interval} kms\")\n",
        "      break\n",
        "    elif ask == \"No\":\n",
        "      count = count + 1\n",
        "if count == laps:\n",
        "  print(\"Congratulations, you have finished the race!!!\")"
      ],
      "execution_count": 24,
      "outputs": [
        {
          "output_type": "stream",
          "text": [
            "Congratulations, you have finished the race!!!\n"
          ],
          "name": "stdout"
        }
      ]
    },
    {
      "cell_type": "markdown",
      "metadata": {
        "id": "RxWy_I12h-eG"
      },
      "source": [
        "# **Problem 6 : Multiple of 5 and Divisible by 7**\n",
        "Write a Python program to find those numbers which are divisible by 7 and multiple of 5, between 1500 and 2700 (both included)."
      ]
    },
    {
      "cell_type": "code",
      "metadata": {
        "colab": {
          "base_uri": "https://localhost:8080/"
        },
        "id": "-pVeRZ5LiM-7",
        "outputId": "d6a1bf3f-0be6-4a91-d138-035379013f6b"
      },
      "source": [
        "for i in range(1500 , 2701 ):\n",
        " if (i % 7 == 0) and (i % 5 == 0):\n",
        "    print(i) "
      ],
      "execution_count": 25,
      "outputs": [
        {
          "output_type": "stream",
          "text": [
            "1505\n",
            "1540\n",
            "1575\n",
            "1610\n",
            "1645\n",
            "1680\n",
            "1715\n",
            "1750\n",
            "1785\n",
            "1820\n",
            "1855\n",
            "1890\n",
            "1925\n",
            "1960\n",
            "1995\n",
            "2030\n",
            "2065\n",
            "2100\n",
            "2135\n",
            "2170\n",
            "2205\n",
            "2240\n",
            "2275\n",
            "2310\n",
            "2345\n",
            "2380\n",
            "2415\n",
            "2450\n",
            "2485\n",
            "2520\n",
            "2555\n",
            "2590\n",
            "2625\n",
            "2660\n",
            "2695\n"
          ],
          "name": "stdout"
        }
      ]
    },
    {
      "cell_type": "markdown",
      "metadata": {
        "id": "dLp5y-3Uihrk"
      },
      "source": [
        "# **Problem 7 : Square of Odd numbers between 10 and 20**\n",
        "Print square of all numbers between 10 to 20 except even numbers"
      ]
    },
    {
      "cell_type": "code",
      "metadata": {
        "colab": {
          "base_uri": "https://localhost:8080/"
        },
        "id": "tGo3CqY6ihOs",
        "outputId": "b5f20ca8-2679-4915-cc61-a75eb947b4d3"
      },
      "source": [
        "print(\"Square of Odd numbers between 10 and 20 : \")\n",
        "for i in range (10,20):\n",
        "  if i%2 ==1:\n",
        "    print (i**2)"
      ],
      "execution_count": 27,
      "outputs": [
        {
          "output_type": "stream",
          "text": [
            "Square of Odd numbers between 10 and 20 : \n",
            "121\n",
            "169\n",
            "225\n",
            "289\n",
            "361\n"
          ],
          "name": "stdout"
        }
      ]
    },
    {
      "cell_type": "markdown",
      "metadata": {
        "id": "gZTiChkHjDWF"
      },
      "source": [
        "# **Problem 8 : Search List**\n",
        "Your Marks for five Tests(test1 to test5) looks like this,\n",
        "marks_list = [65, 75, 2100, 95, 83]\n",
        "\n",
        "Write a program that asks you to enter marks and program should tell you in which test that marks occurred. If marks is not found then it should print that as well.\n"
      ]
    },
    {
      "cell_type": "code",
      "metadata": {
        "id": "DiGVUPLHjKYL"
      },
      "source": [
        "marks_list = [65, 75, 2100, 95, 83]"
      ],
      "execution_count": 30,
      "outputs": []
    },
    {
      "cell_type": "code",
      "metadata": {
        "colab": {
          "base_uri": "https://localhost:8080/"
        },
        "id": "vieR167AjURu",
        "outputId": "67ae5014-b9d4-44b4-d58f-f09710e6e0f2"
      },
      "source": [
        "user_input= int(input(\"Enter marks : \"))\n",
        "if user_input not in marks_list :\n",
        "  print (f\"There is no entry of {user_input} as your exam marks\")\n",
        "else:\n",
        "  for i in range(len(marks_list)):\n",
        "    if marks_list[i] == user_input:\n",
        "      print(f\"You received {user_input} in Exam {i+1}\")"
      ],
      "execution_count": 33,
      "outputs": [
        {
          "output_type": "stream",
          "text": [
            "Enter marks : 95\n",
            "You received 95 in Exam 4\n"
          ],
          "name": "stdout"
        }
      ]
    },
    {
      "cell_type": "markdown",
      "metadata": {
        "id": "Y38n5-W3l64p"
      },
      "source": [
        "# **Assignment Compiled and Completed by Atrimay_Saha**\n",
        "\n",
        "---\n",
        "\n"
      ]
    }
  ]
}